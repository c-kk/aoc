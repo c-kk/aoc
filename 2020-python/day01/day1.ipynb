{
 "cells": [
  {
   "cell_type": "code",
   "execution_count": 56,
   "metadata": {},
   "outputs": [
    {
     "name": "stdout",
     "output_type": "stream",
     "text": [
      "703131\n",
      "272423970\n"
     ]
    }
   ],
   "source": [
    "import itertools\n",
    "import time\n",
    "\n",
    "lines = open(\"data.txt\").read().split('\\n')\n",
    "numbers = [int(number) for number in lines]\n",
    "\n",
    "combos = list(itertools.combinations(numbers, 2))\n",
    "for [num1, num2] in combos:\n",
    "    if num1 + num2 == 2020:\n",
    "        print(num1 * num2)\n",
    "\n",
    "combos = list(itertools.combinations(numbers, 3))\n",
    "for [num1, num2, num3] in combos:\n",
    "    if num1 + num2 + num3 == 2020:\n",
    "        print(num1 * num2 * num3)"
   ]
  },
  {
   "cell_type": "code",
   "execution_count": null,
   "metadata": {},
   "outputs": [],
   "source": []
  }
 ],
 "metadata": {
  "kernelspec": {
   "display_name": "Python 3",
   "language": "python",
   "name": "python3"
  },
  "language_info": {
   "codemirror_mode": {
    "name": "ipython",
    "version": 3
   },
   "file_extension": ".py",
   "mimetype": "text/x-python",
   "name": "python",
   "nbconvert_exporter": "python",
   "pygments_lexer": "ipython3",
   "version": "3.9.1"
  }
 },
 "nbformat": 4,
 "nbformat_minor": 4
}
