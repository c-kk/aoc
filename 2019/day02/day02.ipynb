{
 "cells": [
  {
   "cell_type": "code",
   "execution_count": 36,
   "metadata": {},
   "outputs": [
    {
     "name": "stdout",
     "output_type": "stream",
     "text": [
      "[1, 12, 2, 3, 1, 1, 2, 3, 1, 3, 4, 3, 1, 5, 0, 3, 2, 10, 1, 19, 1, 19, 9, 23, 1, 23, 6, 27, 2, 27, 13, 31, 1, 10, 31, 35, 1, 10, 35, 39, 2, 39, 6, 43, 1, 43, 5, 47, 2, 10, 47, 51, 1, 5, 51, 55, 1, 55, 13, 59, 1, 59, 9, 63, 2, 9, 63, 67, 1, 6, 67, 71, 1, 71, 13, 75, 1, 75, 10, 79, 1, 5, 79, 83, 1, 10, 83, 87, 1, 5, 87, 91, 1, 91, 9, 95, 2, 13, 95, 99, 1, 5, 99, 103, 2, 103, 9, 107, 1, 5, 107, 111, 2, 111, 9, 115, 1, 115, 6, 119, 2, 13, 119, 123, 1, 123, 5, 127, 1, 127, 9, 131, 1, 131, 10, 135, 1, 13, 135, 139, 2, 9, 139, 143, 1, 5, 143, 147, 1, 13, 147, 151, 1, 151, 2, 155, 1, 10, 155, 0, 99, 2, 14, 0, 0]\n"
     ]
    }
   ],
   "source": [
    "mem = [int(s) for s in open(\"data.txt\").read().split(',')]\n",
    "mem[1] = 12\n",
    "mem[2] = 2\n",
    "print(mem)"
   ]
  },
  {
   "cell_type": "code",
   "execution_count": 37,
   "metadata": {},
   "outputs": [
    {
     "name": "stdout",
     "output_type": "stream",
     "text": [
      "  0: opcode  1 [ 12,   2,   3]  Add       1 +       2. Store at   3\n",
      "  4: opcode  1 [  1,   2,   3]  Add      12 +       2. Store at   3\n",
      "  8: opcode  1 [  3,   4,   3]  Add      14 +       1. Store at   3\n",
      " 12: opcode  1 [  5,   0,   3]  Add       1 +       1. Store at   3\n",
      " 16: opcode  2 [ 10,   1,  19]  Mul       4 *      12. Store at  19\n",
      " 20: opcode  1 [ 19,   9,  23]  Add      48 +       3. Store at  23\n",
      " 24: opcode  1 [ 23,   6,  27]  Add      51 +       2. Store at  27\n",
      " 28: opcode  2 [ 27,  13,  31]  Mul      53 *       5. Store at  31\n",
      " 32: opcode  1 [ 10,  31,  35]  Add       4 +     265. Store at  35\n",
      " 36: opcode  1 [ 10,  35,  39]  Add       4 +     269. Store at  39\n",
      " 40: opcode  2 [ 39,   6,  43]  Mul     273 *       2. Store at  43\n",
      " 44: opcode  1 [ 43,   5,  47]  Add     546 +       1. Store at  47\n",
      " 48: opcode  2 [ 10,  47,  51]  Mul       4 *     547. Store at  51\n",
      " 52: opcode  1 [  5,  51,  55]  Add       1 +    2188. Store at  55\n",
      " 56: opcode  1 [ 55,  13,  59]  Add    2189 +       5. Store at  59\n",
      " 60: opcode  1 [ 59,   9,  63]  Add    2194 +       3. Store at  63\n",
      " 64: opcode  2 [  9,  63,  67]  Mul       3 *    2197. Store at  67\n",
      " 68: opcode  1 [  6,  67,  71]  Add       2 +    6591. Store at  71\n",
      " 72: opcode  1 [ 71,  13,  75]  Add    6593 +       5. Store at  75\n",
      " 76: opcode  1 [ 75,  10,  79]  Add    6598 +       4. Store at  79\n",
      " 80: opcode  1 [  5,  79,  83]  Add       1 +    6602. Store at  83\n",
      " 84: opcode  1 [ 10,  83,  87]  Add       4 +    6603. Store at  87\n",
      " 88: opcode  1 [  5,  87,  91]  Add       1 +    6607. Store at  91\n",
      " 92: opcode  1 [ 91,   9,  95]  Add    6608 +       3. Store at  95\n",
      " 96: opcode  2 [ 13,  95,  99]  Mul       5 *    6611. Store at  99\n",
      "100: opcode  1 [  5,  99, 103]  Add       1 +   33055. Store at 103\n",
      "104: opcode  2 [103,   9, 107]  Mul   33056 *       3. Store at 107\n",
      "108: opcode  1 [  5, 107, 111]  Add       1 +   99168. Store at 111\n",
      "112: opcode  2 [111,   9, 115]  Mul   99169 *       3. Store at 115\n",
      "116: opcode  1 [115,   6, 119]  Add  297507 +       2. Store at 119\n",
      "120: opcode  2 [ 13, 119, 123]  Mul       5 *  297509. Store at 123\n",
      "124: opcode  1 [123,   5, 127]  Add 1487545 +       1. Store at 127\n",
      "128: opcode  1 [127,   9, 131]  Add 1487546 +       3. Store at 131\n",
      "132: opcode  1 [131,  10, 135]  Add 1487549 +       4. Store at 135\n",
      "136: opcode  1 [ 13, 135, 139]  Add       5 + 1487553. Store at 139\n",
      "140: opcode  2 [  9, 139, 143]  Mul       3 * 1487558. Store at 143\n",
      "144: opcode  1 [  5, 143, 147]  Add       1 + 4462674. Store at 147\n",
      "148: opcode  1 [ 13, 147, 151]  Add       5 + 4462675. Store at 151\n",
      "152: opcode  1 [151,   2, 155]  Add 4462680 +       2. Store at 155\n",
      "156: opcode  1 [ 10, 155,   0]  Add       4 + 4462682. Store at   0\n",
      "160: opcode 99 []  Exit, returning mem[0]=4462686\n",
      "Answer 1: 4462686\n"
     ]
    }
   ],
   "source": [
    "def msg_start(mem, pos, *pars):\n",
    "    opcode = mem[pos]\n",
    "    pars_msg = ', '.join([f'{par:3}' for par in pars])\n",
    "    msg = f'{pos:3}: opcode {opcode:2} [{pars_msg}]  '\n",
    "    return msg\n",
    "\n",
    "def do_ext(mem, pos):\n",
    "    msg  = msg_start(mem, pos) + f'Exit, returning {mem[0]=}'\n",
    "    return mem, pos + 1, msg\n",
    "\n",
    "def do_add(mem, pos):\n",
    "    par1, par2, par3 = mem[pos+1:pos+4]\n",
    "    val1, val2 = mem[par1], mem[par2]\n",
    "    mem[par3] = val1 + val2\n",
    "    msg  = msg_start(mem, pos, par1, par2, par3)\n",
    "    msg += f'Add {val1:7} + {val2:7}. Store at {par3:3}'\n",
    "    return mem, pos + 4, msg\n",
    "    \n",
    "def do_mul(mem, pos):\n",
    "    par1, par2, par3 = mem[pos+1:pos+4]\n",
    "    val1, val2 = mem[par1], mem[par2]\n",
    "    mem[par3] = val1 * val2\n",
    "    msg  = msg_start(mem, pos, par1, par2, par3)\n",
    "    msg += f'Mul {val1:7} * {val2:7}. Store at {par3:3}'\n",
    "    return mem, pos + 4, msg\n",
    "\n",
    "def run_and_debug_program(mem):\n",
    "    return run_program(mem, debug=True)\n",
    "\n",
    "def run_program(mem, debug=False):\n",
    "    mem = mem.copy()\n",
    "    pos = 0\n",
    "    while True:\n",
    "        opcode = mem[pos]\n",
    "        if   opcode == 99: mem, pos, msg = do_ext(mem, pos)\n",
    "        elif opcode == 1:  mem, pos, msg = do_add(mem, pos)\n",
    "        elif opcode == 2:  mem, pos, msg = do_mul(mem, pos)\n",
    "            \n",
    "        if debug: print(msg)\n",
    "        if opcode == 99: return mem[0]\n",
    "            \n",
    "result = run_and_debug_program(mem)\n",
    "print('Answer 1:', result)   "
   ]
  },
  {
   "cell_type": "code",
   "execution_count": 38,
   "metadata": {},
   "outputs": [
    {
     "name": "stdout",
     "output_type": "stream",
     "text": [
      "Answer 2: 5936\n"
     ]
    }
   ],
   "source": [
    "def find_noun_and_verb(wanted_result):    \n",
    "    for noun in range(0, 100):\n",
    "        for verb in range(0, 100):\n",
    "            mem[1] = noun\n",
    "            mem[2] = verb\n",
    "            result = run_program(mem)\n",
    "            if result == wanted_result:\n",
    "                return 100 * noun + verb\n",
    "           \n",
    "print('Answer 2:', find_noun_and_verb(19690720))            "
   ]
  },
  {
   "cell_type": "code",
   "execution_count": null,
   "metadata": {},
   "outputs": [],
   "source": []
  }
 ],
 "metadata": {
  "kernelspec": {
   "display_name": "Python 3",
   "language": "python",
   "name": "python3"
  },
  "language_info": {
   "codemirror_mode": {
    "name": "ipython",
    "version": 3
   },
   "file_extension": ".py",
   "mimetype": "text/x-python",
   "name": "python",
   "nbconvert_exporter": "python",
   "pygments_lexer": "ipython3",
   "version": "3.9.1"
  }
 },
 "nbformat": 4,
 "nbformat_minor": 4
}
