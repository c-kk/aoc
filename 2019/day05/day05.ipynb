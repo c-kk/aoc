{
 "cells": [
  {
   "cell_type": "code",
   "execution_count": 7,
   "metadata": {
    "cell_id": "00000-3fa18a0f-3c08-4118-b3dc-3f2d68c63678",
    "deepnote_cell_type": "code",
    "deepnote_to_be_reexecuted": false,
    "execution_millis": 2,
    "execution_start": 1609400984355,
    "source_hash": "db74722"
   },
   "outputs": [
    {
     "name": "stdout",
     "output_type": "stream",
     "text": [
      "Data imported. Memory length = 678\n"
     ]
    }
   ],
   "source": [
    "mem = [int(s) for s in open(\"data.txt\").read().split(',')]\n",
    "mem[1] = 12\n",
    "mem[2] = 2\n",
    "print(f'Data imported. Memory length = {len(mem)}')"
   ]
  },
  {
   "cell_type": "code",
   "execution_count": 11,
   "metadata": {
    "cell_id": "00001-b46f32bc-d6ba-464a-8222-fbde32dcc91a",
    "deepnote_cell_type": "code",
    "deepnote_to_be_reexecuted": false,
    "execution_millis": 71,
    "execution_start": 1609400984366,
    "source_hash": "62678ad2"
   },
   "outputs": [
    {
     "ename": "KeyError",
     "evalue": "3",
     "output_type": "error",
     "traceback": [
      "\u001b[0;31m---------------------------------------------------------------------------\u001b[0m",
      "\u001b[0;31mKeyError\u001b[0m                                  Traceback (most recent call last)",
      "\u001b[0;32m<ipython-input-11-824f29dde4e0>\u001b[0m in \u001b[0;36m<module>\u001b[0;34m\u001b[0m\n\u001b[1;32m     33\u001b[0m         \u001b[0;32mif\u001b[0m \u001b[0mopcode\u001b[0m \u001b[0;34m==\u001b[0m \u001b[0;36m99\u001b[0m\u001b[0;34m:\u001b[0m \u001b[0;32mreturn\u001b[0m \u001b[0mmem\u001b[0m\u001b[0;34m[\u001b[0m\u001b[0;36m0\u001b[0m\u001b[0;34m]\u001b[0m\u001b[0;34m\u001b[0m\u001b[0;34m\u001b[0m\u001b[0m\n\u001b[1;32m     34\u001b[0m \u001b[0;34m\u001b[0m\u001b[0m\n\u001b[0;32m---> 35\u001b[0;31m \u001b[0mresult\u001b[0m \u001b[0;34m=\u001b[0m \u001b[0mrun_program\u001b[0m\u001b[0;34m(\u001b[0m\u001b[0mmem\u001b[0m\u001b[0;34m,\u001b[0m \u001b[0mdebug\u001b[0m\u001b[0;34m=\u001b[0m\u001b[0;32mTrue\u001b[0m\u001b[0;34m)\u001b[0m\u001b[0;34m\u001b[0m\u001b[0;34m\u001b[0m\u001b[0m\n\u001b[0m\u001b[1;32m     36\u001b[0m \u001b[0mprint\u001b[0m\u001b[0;34m(\u001b[0m\u001b[0;34m'Answer 1:'\u001b[0m\u001b[0;34m,\u001b[0m \u001b[0mresult\u001b[0m\u001b[0;34m)\u001b[0m\u001b[0;34m\u001b[0m\u001b[0;34m\u001b[0m\u001b[0m\n",
      "\u001b[0;32m<ipython-input-11-824f29dde4e0>\u001b[0m in \u001b[0;36mrun_program\u001b[0;34m(mem, debug)\u001b[0m\n\u001b[1;32m     28\u001b[0m     \u001b[0;32mwhile\u001b[0m \u001b[0;32mTrue\u001b[0m\u001b[0;34m:\u001b[0m\u001b[0;34m\u001b[0m\u001b[0;34m\u001b[0m\u001b[0m\n\u001b[1;32m     29\u001b[0m         \u001b[0mopcode\u001b[0m \u001b[0;34m=\u001b[0m \u001b[0mmem\u001b[0m\u001b[0;34m[\u001b[0m\u001b[0mpos\u001b[0m\u001b[0;34m]\u001b[0m\u001b[0;34m\u001b[0m\u001b[0;34m\u001b[0m\u001b[0m\n\u001b[0;32m---> 30\u001b[0;31m         \u001b[0mmem\u001b[0m\u001b[0;34m,\u001b[0m \u001b[0mpos\u001b[0m\u001b[0;34m,\u001b[0m \u001b[0mmsg\u001b[0m \u001b[0;34m=\u001b[0m \u001b[0mopcode_lookup\u001b[0m\u001b[0;34m[\u001b[0m\u001b[0mopcode\u001b[0m\u001b[0;34m]\u001b[0m\u001b[0;34m(\u001b[0m\u001b[0mmem\u001b[0m\u001b[0;34m,\u001b[0m \u001b[0mpos\u001b[0m\u001b[0;34m)\u001b[0m\u001b[0;34m\u001b[0m\u001b[0;34m\u001b[0m\u001b[0m\n\u001b[0m\u001b[1;32m     31\u001b[0m \u001b[0;34m\u001b[0m\u001b[0m\n\u001b[1;32m     32\u001b[0m         \u001b[0;32mif\u001b[0m \u001b[0mdebug\u001b[0m\u001b[0;34m:\u001b[0m \u001b[0mprint\u001b[0m\u001b[0;34m(\u001b[0m\u001b[0mmsg\u001b[0m\u001b[0;34m)\u001b[0m\u001b[0;34m\u001b[0m\u001b[0;34m\u001b[0m\u001b[0m\n",
      "\u001b[0;31mKeyError\u001b[0m: 3"
     ]
    }
   ],
   "source": [
    "def msg_start(mem, pos, *pars):\n",
    "    pars_msg = ', '.join([f'{par:3}' for par in pars])\n",
    "    return f'{pos:3}: opcode {mem[pos]:2} [{pars_msg}]  '\n",
    "\n",
    "def add_1(mem, pos, *inp):\n",
    "    par1, par2, par3 = mem[pos+1:pos+4]\n",
    "    mem[par3] = mem[par1] + mem[par2]\n",
    "    msg  = msg_start(mem, pos, par1, par2, par3)\n",
    "    msg += f'Add {mem[par1]:7} + {mem[par2]:7}. Store at {par3:3}'\n",
    "    return mem, pos + 4, msg\n",
    "    \n",
    "def multiply_2(mem, pos, *inp):\n",
    "    par1, par2, par3 = mem[pos+1:pos+4]\n",
    "    mem[par3] = mem[par1] * mem[par2]\n",
    "    msg  = msg_start(mem, pos, par1, par2, par3)\n",
    "    msg += f'Mul {mem[par1]:7} * {mem[par2]:7}. Store at {par3:3}'\n",
    "    return mem, pos + 4, msg\n",
    "\n",
    "def store_3(mem, pos, *inp):\n",
    "    par1 = mem[pos+1]\n",
    "    inp1 = inp[0]\n",
    "    mem[par1] = inp1\n",
    "    msg  = msg_start(mem, pos, par1, par2, par3)\n",
    "    msg += f'Mul {mem[par1]:7} * {mem[par2]:7}. Store at {par3:3}'\n",
    "    return mem, pos + 4, msg\n",
    "\n",
    "def exit_99(mem, pos, *inp):\n",
    "    msg  = msg_start(mem, pos) + f'Exit, returning mem[0]={mem[0]}'\n",
    "    return mem, pos + 1, msg\n",
    "\n",
    "opcode_lookup = {\n",
    "    1: add_1, \n",
    "    2: multiply_2,\n",
    "    3: store_3,\n",
    "    4: output_4,\n",
    "    99: exit_99}\n",
    "\n",
    "def run_program(mem, debug=False):\n",
    "    mem = mem.copy()\n",
    "    pos = 0\n",
    "    while True:\n",
    "        opcode = mem[pos]\n",
    "        mem, pos, msg = opcode_lookup[opcode](mem, pos)\n",
    "            \n",
    "        if debug: print(msg)\n",
    "        if opcode == 99: return mem[0]\n",
    "            \n",
    "result = run_program(mem, debug=True)\n",
    "print('Answer 1:', result)   "
   ]
  },
  {
   "cell_type": "code",
   "execution_count": null,
   "metadata": {
    "cell_id": "00002-223f3185-0b34-4f74-91ab-cb4d1d479358",
    "deepnote_cell_type": "code",
    "deepnote_to_be_reexecuted": true,
    "source_hash": "b623e53d",
    "tags": []
   },
   "outputs": [],
   "source": []
  }
 ],
 "metadata": {
  "deepnote_execution_queue": [],
  "deepnote_notebook_id": "df8b1ef1-c78b-4100-9f56-2c85d0cb47cb",
  "kernelspec": {
   "display_name": "Python 3",
   "language": "python",
   "name": "python3"
  },
  "language_info": {
   "codemirror_mode": {
    "name": "ipython",
    "version": 3
   },
   "file_extension": ".py",
   "mimetype": "text/x-python",
   "name": "python",
   "nbconvert_exporter": "python",
   "pygments_lexer": "ipython3",
   "version": "3.9.1"
  }
 },
 "nbformat": 4,
 "nbformat_minor": 4
}
