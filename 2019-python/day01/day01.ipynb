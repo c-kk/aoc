{
 "cells": [
  {
   "cell_type": "code",
   "execution_count": 2,
   "metadata": {},
   "outputs": [],
   "source": [
    "lines = open(\"data.txt\").read().split('\\n')"
   ]
  },
  {
   "cell_type": "code",
   "execution_count": 3,
   "metadata": {},
   "outputs": [
    {
     "name": "stdout",
     "output_type": "stream",
     "text": [
      "3188480\n"
     ]
    }
   ],
   "source": [
    "# Part 1\n",
    "total = 0\n",
    "for mass in lines:\n",
    "    fuel = int(mass) // 3 - 2  # divide by 3, round down, subtract 2\n",
    "    total += fuel\n",
    "print(total)"
   ]
  },
  {
   "cell_type": "code",
   "execution_count": 4,
   "metadata": {},
   "outputs": [
    {
     "name": "stdout",
     "output_type": "stream",
     "text": [
      "4779847\n"
     ]
    }
   ],
   "source": [
    "# Part 2\n",
    "total = 0\n",
    "for mass in lines:\n",
    "    extra_mass = mass\n",
    "    fuel = 0\n",
    "\n",
    "    while True:\n",
    "        extra_fuel_needed = int(extra_mass) // 3 - 2  # divide by 3, round down, subtract 2\n",
    "        if extra_fuel_needed <= 0:\n",
    "            break\n",
    "        fuel += extra_fuel_needed\n",
    "        extra_mass = extra_fuel_needed\n",
    "\n",
    "    total += fuel\n",
    "print(total)"
   ]
  },
  {
   "cell_type": "code",
   "execution_count": null,
   "metadata": {},
   "outputs": [],
   "source": []
  }
 ],
 "metadata": {
  "kernelspec": {
   "display_name": "Python 3",
   "language": "python",
   "name": "python3"
  },
  "language_info": {
   "codemirror_mode": {
    "name": "ipython",
    "version": 3
   },
   "file_extension": ".py",
   "mimetype": "text/x-python",
   "name": "python",
   "nbconvert_exporter": "python",
   "pygments_lexer": "ipython3",
   "version": "3.9.1"
  }
 },
 "nbformat": 4,
 "nbformat_minor": 4
}
